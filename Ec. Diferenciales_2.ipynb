{
 "cells": [
  {
   "cell_type": "markdown",
   "id": "967a91ea-558a-4499-8802-0732ef477d89",
   "metadata": {},
   "source": [
    "# Ecuaciones diferenciales\n",
    "#### Ejercicios"
   ]
  },
  {
   "cell_type": "code",
   "execution_count": 1,
   "id": "93409a80-289d-44b4-ae9e-f3de83c552b7",
   "metadata": {},
   "outputs": [],
   "source": [
    "from sympy import *\n",
    "x = symbols('x')\n",
    "y = Function('y')"
   ]
  },
  {
   "cell_type": "markdown",
   "id": "47bc8eac-7552-4815-9557-5c16ad0a20de",
   "metadata": {},
   "source": [
    "### $2\\dot{y}-5y=\\frac{x}{3}$"
   ]
  },
  {
   "cell_type": "code",
   "execution_count": 3,
   "id": "d123cde4-09ce-417f-9fdd-6aba4b47b0b9",
   "metadata": {},
   "outputs": [
    {
     "data": {
      "text/latex": [
       "$\\displaystyle - \\frac{x}{3} - 5 y{\\left(x \\right)} + \\frac{d}{d x} y{\\left(x \\right)}$"
      ],
      "text/plain": [
       "-x/3 - 5*y(x) + Derivative(y(x), x)"
      ]
     },
     "execution_count": 3,
     "metadata": {},
     "output_type": "execute_result"
    }
   ],
   "source": [
    "diff(y(x))-5*y(x)-x/3 #para poner una derivada se usa diff"
   ]
  },
  {
   "cell_type": "code",
   "execution_count": 13,
   "id": "f97de042-fd19-495a-86e3-d2903f2ed454",
   "metadata": {},
   "outputs": [
    {
     "data": {
      "text/latex": [
       "$\\displaystyle - 5 y{\\left(x \\right)} + \\frac{d}{d x} y{\\left(x \\right)} = \\frac{x}{3}$"
      ],
      "text/plain": [
       "Eq(-5*y(x) + Derivative(y(x), x), x/3)"
      ]
     },
     "execution_count": 13,
     "metadata": {},
     "output_type": "execute_result"
    }
   ],
   "source": [
    "Eq(diff(y(x))-5*y(x),x/3)"
   ]
  },
  {
   "cell_type": "code",
   "execution_count": 15,
   "id": "a7cc94cc-26c5-4fbf-bd42-462275c5e090",
   "metadata": {},
   "outputs": [],
   "source": [
    "ED=Eq(diff(y(x))-5*y(x),x/3)"
   ]
  },
  {
   "cell_type": "code",
   "execution_count": 14,
   "id": "c27015ad-89e6-4ac5-950a-84428342015f",
   "metadata": {},
   "outputs": [
    {
     "data": {
      "text/latex": [
       "$\\displaystyle y{\\left(x \\right)} = \\left(C_{1} + \\frac{\\left(- 5 x - 1\\right) e^{- 5 x}}{75}\\right) e^{5 x}$"
      ],
      "text/plain": [
       "Eq(y(x), (C1 + (-5*x - 1)*exp(-5*x)/75)*exp(5*x))"
      ]
     },
     "execution_count": 14,
     "metadata": {},
     "output_type": "execute_result"
    }
   ],
   "source": [
    "dsolve(ED,y(x))"
   ]
  },
  {
   "cell_type": "markdown",
   "id": "e73b6712-7f29-4b13-bd1f-c458aa8a2e0f",
   "metadata": {},
   "source": [
    "# Ecuaciones Diferenciales con condiciones iniciales"
   ]
  },
  {
   "cell_type": "markdown",
   "id": "8a5302c6-7f2e-428f-a8d5-7da359115eb0",
   "metadata": {},
   "source": [
    "# $\\dot{y} -5y=8 \\\\\\\n",
    " \\ y(0)=10$"
   ]
  },
  {
   "cell_type": "code",
   "execution_count": 29,
   "id": "3ee68736-02cc-4c42-8f54-baa94f1e5134",
   "metadata": {},
   "outputs": [
    {
     "data": {
      "text/latex": [
       "$\\displaystyle - 5 y{\\left(x \\right)} + \\frac{d}{d x} y{\\left(x \\right)} = 8$"
      ],
      "text/plain": [
       "Eq(-5*y(x) + Derivative(y(x), x), 8)"
      ]
     },
     "execution_count": 29,
     "metadata": {},
     "output_type": "execute_result"
    }
   ],
   "source": [
    "Eq(diff(y(x))-5*y(x),8)"
   ]
  },
  {
   "cell_type": "code",
   "execution_count": 30,
   "id": "a2fb1747-1b9b-4b96-bc52-97a55bce64ed",
   "metadata": {},
   "outputs": [],
   "source": [
    "ED2=Eq(diff(y(x))-5*y(x),8)"
   ]
  },
  {
   "cell_type": "code",
   "execution_count": 31,
   "id": "62e82881-69cb-40d7-805f-b000e1fdf8f4",
   "metadata": {},
   "outputs": [],
   "source": [
    "#diccionario \n",
    "CI={y(0):10}"
   ]
  },
  {
   "cell_type": "code",
   "execution_count": 32,
   "id": "0c301213-b1ca-4268-ad01-88a4208cc7fc",
   "metadata": {},
   "outputs": [
    {
     "data": {
      "text/latex": [
       "$\\displaystyle y{\\left(x \\right)} = \\frac{58 e^{5 x}}{5} - \\frac{8}{5}$"
      ],
      "text/plain": [
       "Eq(y(x), 58*exp(5*x)/5 - 8/5)"
      ]
     },
     "execution_count": 32,
     "metadata": {},
     "output_type": "execute_result"
    }
   ],
   "source": [
    "dsolve(ED2,y(x),ics=CI)"
   ]
  },
  {
   "cell_type": "markdown",
   "id": "733f0a22-69f9-46f0-8eae-68f5ec4571ba",
   "metadata": {},
   "source": [
    "# ED orden superior con condiciones iniciales"
   ]
  },
  {
   "cell_type": "markdown",
   "id": "642a13ca-c8d4-494e-9376-d1040f9459f6",
   "metadata": {},
   "source": [
    "## $\\dddot{y}+6\\ddot{y}-27\\dot{y}-140{y}=3t-1\n",
    "\\\\\\\\\\\n",
    "y(0)=0, y(5)=10$"
   ]
  },
  {
   "cell_type": "code",
   "execution_count": 34,
   "id": "4c634be8-8268-4128-936d-ff0d0de3a47f",
   "metadata": {},
   "outputs": [
    {
     "data": {
      "text/latex": [
       "$\\displaystyle - 140 y{\\left(x \\right)} - 27 \\frac{d}{d x} y{\\left(x \\right)} + 6 \\frac{d^{2}}{d x^{2}} y{\\left(x \\right)} + \\frac{d^{3}}{d x^{3}} y{\\left(x \\right)} = 3 x - 1$"
      ],
      "text/plain": [
       "Eq(-140*y(x) - 27*Derivative(y(x), x) + 6*Derivative(y(x), (x, 2)) + Derivative(y(x), (x, 3)), 3*x - 1)"
      ]
     },
     "execution_count": 34,
     "metadata": {},
     "output_type": "execute_result"
    }
   ],
   "source": [
    "Eq(diff(y(x),x,3)+6*diff(y(x),x,2)-27*diff(y(x))-140*y(x),3*x-1)"
   ]
  },
  {
   "cell_type": "code",
   "execution_count": 44,
   "id": "51305ab0-49af-4efd-bc88-9206a382e3c6",
   "metadata": {},
   "outputs": [],
   "source": [
    "ED3=Eq(diff(y(x),x,3)+6*diff(y(x),x,2)-27*diff(y(x))-140*y(x),3*x-1)"
   ]
  },
  {
   "cell_type": "code",
   "execution_count": 48,
   "id": "5ab36ead-3a11-4e40-92d7-d7eeec0174a5",
   "metadata": {},
   "outputs": [],
   "source": [
    "CI2={y(0):0,y(5):10, y(7):4} #diccionarios se abren con llave"
   ]
  },
  {
   "cell_type": "code",
   "execution_count": 50,
   "id": "05ae2f66-05fd-464e-adb1-5a01fbe382cc",
   "metadata": {},
   "outputs": [
    {
     "data": {
      "text/latex": [
       "$\\displaystyle y{\\left(x \\right)} = - \\frac{3 x}{140} + \\frac{\\left(- 197879 e^{38} - 197879 e^{35} - 197879 e^{32} - 197879 e^{29} - 197879 e^{26} - 197879 e^{23} - 197879 e^{20} - 221 e^{3} - 221 + 81119 e^{34} + 81119 e^{37} + 81119 e^{40} + 81119 e^{43} + 81119 e^{46}\\right) e^{5 x}}{- 19600 e^{63} - 19600 e^{60} - 19600 e^{57} - 19600 e^{54} - 19600 e^{51} - 19600 e^{48} - 19600 e^{45} + 19600 + 19600 e^{3} + 19600 e^{69} + 19600 e^{72} + 19600 e^{75} + 19600 e^{78} + 19600 e^{81}} + \\frac{221}{19600} + \\frac{\\left(- 81119 e^{82} - 81119 e^{70} - 81119 e^{58} - 81119 e^{46} - 81119 e^{34} + 197879 e^{20} + 197879 e^{32} + 221 e^{45} + 197879 e^{44} + 221 e^{57} + 197879 e^{56} + 197879 e^{68} + 197879 e^{80} + 197879 e^{92}\\right) e^{- 4 x}}{- 19600 e^{57} - 19600 e^{54} - 19600 e^{45} - 19600 e^{42} - 19600 e^{30} - 19600 e^{18} - 19600 e^{6} + 19600 + 19600 e^{12} + 19600 e^{24} + 19600 e^{36} + 19600 e^{48} + 19600 e^{60} + 19600 e^{72}} + \\frac{\\left(- 197879 e^{95} - 197879 e^{86} - 197879 e^{77} - 221 e^{75} - 197879 e^{68} - 221 e^{66} - 197879 e^{59} - 197879 e^{50} - 197879 e^{41} + 81119 e^{49} + 81119 e^{58} + 81119 e^{67} + 81119 e^{76} + 81119 e^{85}\\right) e^{- 7 x}}{- 19600 e^{60} - 19600 e^{51} - 19600 e^{42} - 19600 e^{33} - 19600 e^{24} - 19600 e^{15} - 19600 e^{6} + 19600 + 19600 e^{9} + 19600 e^{18} + 19600 e^{27} + 19600 e^{36} + 19600 e^{66} + 19600 e^{75}}$"
      ],
      "text/plain": [
       "Eq(y(x), -3*x/140 + (-197879*exp(38) - 197879*exp(35) - 197879*exp(32) - 197879*exp(29) - 197879*exp(26) - 197879*exp(23) - 197879*exp(20) - 221*exp(3) - 221 + 81119*exp(34) + 81119*exp(37) + 81119*exp(40) + 81119*exp(43) + 81119*exp(46))*exp(5*x)/(-19600*exp(63) - 19600*exp(60) - 19600*exp(57) - 19600*exp(54) - 19600*exp(51) - 19600*exp(48) - 19600*exp(45) + 19600 + 19600*exp(3) + 19600*exp(69) + 19600*exp(72) + 19600*exp(75) + 19600*exp(78) + 19600*exp(81)) + 221/19600 + (-81119*exp(82) - 81119*exp(70) - 81119*exp(58) - 81119*exp(46) - 81119*exp(34) + 197879*exp(20) + 197879*exp(32) + 221*exp(45) + 197879*exp(44) + 221*exp(57) + 197879*exp(56) + 197879*exp(68) + 197879*exp(80) + 197879*exp(92))*exp(-4*x)/(-19600*exp(57) - 19600*exp(54) - 19600*exp(45) - 19600*exp(42) - 19600*exp(30) - 19600*exp(18) - 19600*exp(6) + 19600 + 19600*exp(12) + 19600*exp(24) + 19600*exp(36) + 19600*exp(48) + 19600*exp(60) + 19600*exp(72)) + (-197879*exp(95) - 197879*exp(86) - 197879*exp(77) - 221*exp(75) - 197879*exp(68) - 221*exp(66) - 197879*exp(59) - 197879*exp(50) - 197879*exp(41) + 81119*exp(49) + 81119*exp(58) + 81119*exp(67) + 81119*exp(76) + 81119*exp(85))*exp(-7*x)/(-19600*exp(60) - 19600*exp(51) - 19600*exp(42) - 19600*exp(33) - 19600*exp(24) - 19600*exp(15) - 19600*exp(6) + 19600 + 19600*exp(9) + 19600*exp(18) + 19600*exp(27) + 19600*exp(36) + 19600*exp(66) + 19600*exp(75)))"
      ]
     },
     "execution_count": 50,
     "metadata": {},
     "output_type": "execute_result"
    }
   ],
   "source": [
    "dsolve(ED3,y(x),ics=CI2)"
   ]
  },
  {
   "cell_type": "markdown",
   "id": "9f56f8a5-6406-4de7-bb7b-dea48460f4ac",
   "metadata": {},
   "source": [
    "# Solución Gráfica de una ecuación diferencial"
   ]
  },
  {
   "cell_type": "markdown",
   "id": "46b7edb2-1356-423c-9561-6d4604f30bc8",
   "metadata": {},
   "source": [
    "### $\\frac{d }{dx}x(t)=cos(t^2) \\\\\n",
    "x(0)=0$"
   ]
  },
  {
   "cell_type": "markdown",
   "id": "a248b4e4-11d8-4559-b418-39de2b73e2d2",
   "metadata": {},
   "source": [
    "a) Evaluar la solución de la ED en t=10.\n",
    "b) Evaluar la función en el intervalo $[0,10].$"
   ]
  },
  {
   "cell_type": "code",
   "execution_count": 51,
   "id": "67b070b9-1795-4a21-a1fb-a8f458b1c7de",
   "metadata": {},
   "outputs": [],
   "source": [
    "import sympy as sp\n",
    "t=sp.symbols('t')\n",
    "x=sp.Function('x')"
   ]
  },
  {
   "cell_type": "code",
   "execution_count": 52,
   "id": "d0498ebf-9249-47d8-8da8-dfb8617edc50",
   "metadata": {},
   "outputs": [
    {
     "data": {
      "text/latex": [
       "$\\displaystyle \\frac{d}{d t} x{\\left(t \\right)}$"
      ],
      "text/plain": [
       "Derivative(x(t), t)"
      ]
     },
     "execution_count": 52,
     "metadata": {},
     "output_type": "execute_result"
    }
   ],
   "source": [
    "#Escribir la ED\n",
    "sp.diff(x(t),t)"
   ]
  },
  {
   "cell_type": "code",
   "execution_count": 53,
   "id": "a439bf37-5862-4c9d-89fc-697dc09b2779",
   "metadata": {},
   "outputs": [
    {
     "data": {
      "text/latex": [
       "$\\displaystyle \\frac{d}{d t} x{\\left(t \\right)}$"
      ],
      "text/plain": [
       "Derivative(x(t), t)"
      ]
     },
     "execution_count": 53,
     "metadata": {},
     "output_type": "execute_result"
    }
   ],
   "source": [
    "x(t).diff()"
   ]
  },
  {
   "cell_type": "code",
   "execution_count": 55,
   "id": "ed5c32c7-55dc-4f1d-8209-d75bf59196d2",
   "metadata": {},
   "outputs": [
    {
     "data": {
      "text/latex": [
       "$\\displaystyle \\cos{\\left(t^{2} \\right)}$"
      ],
      "text/plain": [
       "cos(t**2)"
      ]
     },
     "execution_count": 55,
     "metadata": {},
     "output_type": "execute_result"
    }
   ],
   "source": [
    "sp.cos(t**2)"
   ]
  },
  {
   "cell_type": "code",
   "execution_count": 57,
   "id": "658a4a42-758d-4b9a-96bb-204ee4da0862",
   "metadata": {},
   "outputs": [
    {
     "data": {
      "text/latex": [
       "$\\displaystyle \\frac{d}{d t} x{\\left(t \\right)} = \\cos{\\left(t^{2} \\right)}$"
      ],
      "text/plain": [
       "Eq(Derivative(x(t), t), cos(t**2))"
      ]
     },
     "execution_count": 57,
     "metadata": {},
     "output_type": "execute_result"
    }
   ],
   "source": [
    "#tenemos que unir las ecuaciones, con la función EQ\n",
    "sp.Eq(x(t).diff(),sp.cos(t**2))"
   ]
  },
  {
   "cell_type": "code",
   "execution_count": 65,
   "id": "0fd1e078-b9ac-43e8-8953-af1ba224ec4a",
   "metadata": {},
   "outputs": [
    {
     "data": {
      "text/latex": [
       "$\\displaystyle x{\\left(t \\right)} = C_{1} + \\frac{\\sqrt{2} \\sqrt{\\pi} C\\left(\\frac{\\sqrt{2} t}{\\sqrt{\\pi}}\\right) \\Gamma\\left(\\frac{1}{4}\\right)}{8 \\Gamma\\left(\\frac{5}{4}\\right)}$"
      ],
      "text/plain": [
       "Eq(x(t), C1 + sqrt(2)*sqrt(pi)*fresnelc(sqrt(2)*t/sqrt(pi))*gamma(1/4)/(8*gamma(5/4)))"
      ]
     },
     "execution_count": 65,
     "metadata": {},
     "output_type": "execute_result"
    }
   ],
   "source": [
    "#resolvemos la ecuacion con y sin valor inicial\n",
    "Ed=sp.Eq(x(t).diff(),sp.cos(t**2))\n",
    "sp.dsolve(Ed,x(t))"
   ]
  },
  {
   "cell_type": "code",
   "execution_count": 63,
   "id": "70b690a0-423a-4f28-8ce8-07f671cbe337",
   "metadata": {},
   "outputs": [],
   "source": [
    "#aparece C_1 porque aún no agregamos la condicion iniciales\n",
    "Ed=sp.Eq(x(t).diff(),sp.cos(t**2))\n",
    "sol1=sp.dsolve(Ed,x(t))\n",
    "#para agregar la condición inicial, usamos el diccionario\n",
    "ci={x(0):0}\n",
    "#usamos de nuevo dsolve, pero con un nuevo parámetro\n",
    "sol2=sp.dsolve(Ed,x(t), ics=ci)"
   ]
  },
  {
   "cell_type": "code",
   "execution_count": 67,
   "id": "e7e93ef5-1e37-49ad-9eea-41feb78cc2db",
   "metadata": {},
   "outputs": [
    {
     "data": {
      "text/latex": [
       "$\\displaystyle x{\\left(t \\right)} = C_{1} + \\frac{\\sqrt{2} \\sqrt{\\pi} C\\left(\\frac{\\sqrt{2} t}{\\sqrt{\\pi}}\\right) \\Gamma\\left(\\frac{1}{4}\\right)}{8 \\Gamma\\left(\\frac{5}{4}\\right)}$"
      ],
      "text/plain": [
       "Eq(x(t), C1 + sqrt(2)*sqrt(pi)*fresnelc(sqrt(2)*t/sqrt(pi))*gamma(1/4)/(8*gamma(5/4)))"
      ]
     },
     "metadata": {},
     "output_type": "display_data"
    },
    {
     "data": {
      "text/latex": [
       "$\\displaystyle x{\\left(t \\right)} = \\frac{\\sqrt{2} \\sqrt{\\pi} C\\left(\\frac{\\sqrt{2} t}{\\sqrt{\\pi}}\\right) \\Gamma\\left(\\frac{1}{4}\\right)}{8 \\Gamma\\left(\\frac{5}{4}\\right)}$"
      ],
      "text/plain": [
       "Eq(x(t), sqrt(2)*sqrt(pi)*fresnelc(sqrt(2)*t/sqrt(pi))*gamma(1/4)/(8*gamma(5/4)))"
      ]
     },
     "metadata": {},
     "output_type": "display_data"
    }
   ],
   "source": [
    "#grabamos las soluciones en una variable, para verlas usamos la función display\n",
    "display(sol1,sol2)"
   ]
  },
  {
   "cell_type": "markdown",
   "id": "c474e8b2-7aae-4099-81cf-e2f72018c634",
   "metadata": {},
   "source": [
    "### Graficando..."
   ]
  },
  {
   "cell_type": "code",
   "execution_count": 69,
   "id": "24bbca6b-b5b4-432a-9570-6852bdc6b502",
   "metadata": {},
   "outputs": [
    {
     "ename": "TypeError",
     "evalue": "'NoneType' object is not iterable",
     "output_type": "error",
     "traceback": [
      "\u001b[1;31m---------------------------------------------------------------------------\u001b[0m",
      "\u001b[1;31mTypeError\u001b[0m                                 Traceback (most recent call last)",
      "\u001b[1;32m<ipython-input-69-3905c9a52e5f>\u001b[0m in \u001b[0;36m<module>\u001b[1;34m\u001b[0m\n\u001b[0;32m      1\u001b[0m \u001b[1;31m#Ahora para graficarlas\u001b[0m\u001b[1;33m\u001b[0m\u001b[1;33m\u001b[0m\u001b[1;33m\u001b[0m\u001b[0m\n\u001b[1;32m----> 2\u001b[1;33m \u001b[0msp\u001b[0m\u001b[1;33m.\u001b[0m\u001b[0mplot\u001b[0m\u001b[1;33m(\u001b[0m\u001b[0msol2\u001b[0m\u001b[1;33m)\u001b[0m\u001b[1;33m\u001b[0m\u001b[1;33m\u001b[0m\u001b[0m\n\u001b[0m\u001b[0;32m      3\u001b[0m \u001b[1;31m#no funciona porque a la funcio¿ón plot no sabe que hacer con la ecuacion\u001b[0m\u001b[1;33m\u001b[0m\u001b[1;33m\u001b[0m\u001b[1;33m\u001b[0m\u001b[0m\n",
      "\u001b[1;32m~\\anaconda3\\lib\\site-packages\\sympy\\plotting\\plot.py\u001b[0m in \u001b[0;36mplot\u001b[1;34m(show, *args, **kwargs)\u001b[0m\n\u001b[0;32m   1734\u001b[0m     \u001b[0mseries\u001b[0m \u001b[1;33m=\u001b[0m \u001b[1;33m[\u001b[0m\u001b[1;33m]\u001b[0m\u001b[1;33m\u001b[0m\u001b[1;33m\u001b[0m\u001b[0m\n\u001b[0;32m   1735\u001b[0m     \u001b[0mplot_expr\u001b[0m \u001b[1;33m=\u001b[0m \u001b[0mcheck_arguments\u001b[0m\u001b[1;33m(\u001b[0m\u001b[0margs\u001b[0m\u001b[1;33m,\u001b[0m \u001b[1;36m1\u001b[0m\u001b[1;33m,\u001b[0m \u001b[1;36m1\u001b[0m\u001b[1;33m)\u001b[0m\u001b[1;33m\u001b[0m\u001b[1;33m\u001b[0m\u001b[0m\n\u001b[1;32m-> 1736\u001b[1;33m     \u001b[0mseries\u001b[0m \u001b[1;33m=\u001b[0m \u001b[1;33m[\u001b[0m\u001b[0mLineOver1DRangeSeries\u001b[0m\u001b[1;33m(\u001b[0m\u001b[1;33m*\u001b[0m\u001b[0marg\u001b[0m\u001b[1;33m,\u001b[0m \u001b[1;33m**\u001b[0m\u001b[0mkwargs\u001b[0m\u001b[1;33m)\u001b[0m \u001b[1;32mfor\u001b[0m \u001b[0marg\u001b[0m \u001b[1;32min\u001b[0m \u001b[0mplot_expr\u001b[0m\u001b[1;33m]\u001b[0m\u001b[1;33m\u001b[0m\u001b[1;33m\u001b[0m\u001b[0m\n\u001b[0m\u001b[0;32m   1737\u001b[0m \u001b[1;33m\u001b[0m\u001b[0m\n\u001b[0;32m   1738\u001b[0m     \u001b[0mplots\u001b[0m \u001b[1;33m=\u001b[0m \u001b[0mPlot\u001b[0m\u001b[1;33m(\u001b[0m\u001b[1;33m*\u001b[0m\u001b[0mseries\u001b[0m\u001b[1;33m,\u001b[0m \u001b[1;33m**\u001b[0m\u001b[0mkwargs\u001b[0m\u001b[1;33m)\u001b[0m\u001b[1;33m\u001b[0m\u001b[1;33m\u001b[0m\u001b[0m\n",
      "\u001b[1;31mTypeError\u001b[0m: 'NoneType' object is not iterable"
     ]
    }
   ],
   "source": [
    "#Ahora para graficarlas usamos\n",
    "sp.plot(sol2) \n",
    "#no funciona porque a la función plot no sabe que hacer con la ecuacion"
   ]
  },
  {
   "cell_type": "code",
   "execution_count": 76,
   "id": "f5fab30b-eb72-4d32-8d7f-0981c1a24c3e",
   "metadata": {},
   "outputs": [
    {
     "data": {
      "image/png": "[encoded data removed]",
      "text/plain": [
       "<Figure size 432x288 with 1 Axes>"
      ]
     },
     "metadata": {
      "needs_background": "light"
     },
     "output_type": "display_data"
    },
    {
     "data": {
      "text/plain": [
       "<sympy.plotting.plot.Plot at 0x2820f60d250>"
      ]
     },
     "execution_count": 76,
     "metadata": {},
     "output_type": "execute_result"
    }
   ],
   "source": [
    "#por lo que debemos ocupar sol2.rhs (right hand side)\n",
    "sp.plot(sol2.rhs, (t,-10,10), line_color='blue')"
   ]
  },
  {
   "cell_type": "markdown",
   "id": "2279aea8-7cd2-4db0-99a7-63c6d5846ae5",
   "metadata": {},
   "source": [
    "### Evaluando..."
   ]
  },
  {
   "cell_type": "code",
   "execution_count": 78,
   "id": "60c4c3aa-4c4a-4b0c-8b7a-60253bbef3f4",
   "metadata": {},
   "outputs": [
    {
     "data": {
      "text/latex": [
       "$\\displaystyle x{\\left(10 \\right)} = \\frac{\\sqrt{2} \\sqrt{\\pi} C\\left(\\frac{10 \\sqrt{2}}{\\sqrt{\\pi}}\\right) \\Gamma\\left(\\frac{1}{4}\\right)}{8 \\Gamma\\left(\\frac{5}{4}\\right)}$"
      ],
      "text/plain": [
       "Eq(x(10), sqrt(2)*sqrt(pi)*fresnelc(10*sqrt(2)/sqrt(pi))*gamma(1/4)/(8*gamma(5/4)))"
      ]
     },
     "execution_count": 78,
     "metadata": {},
     "output_type": "execute_result"
    }
   ],
   "source": [
    "sol2.subs(t,10)"
   ]
  },
  {
   "cell_type": "code",
   "execution_count": 79,
   "id": "283c4da3-a1a8-411b-9b05-7727aff71a64",
   "metadata": {},
   "outputs": [
    {
     "data": {
      "text/latex": [
       "$\\displaystyle x{\\left(10 \\right)} = 0.601125184813444$"
      ],
      "text/plain": [
       "Eq(x(10), 0.601125184813444)"
      ]
     },
     "execution_count": 79,
     "metadata": {},
     "output_type": "execute_result"
    }
   ],
   "source": [
    "sol2.subs(t,10).evalf()"
   ]
  },
  {
   "cell_type": "code",
   "execution_count": 80,
   "id": "8e1d50e8-71df-4e82-9067-72174aac8713",
   "metadata": {},
   "outputs": [
    {
     "data": {
      "text/latex": [
       "$\\displaystyle x{\\left(0 \\right)} = 0$"
      ],
      "text/plain": [
       "Eq(x(0), 0)"
      ]
     },
     "metadata": {},
     "output_type": "display_data"
    },
    {
     "data": {
      "text/latex": [
       "$\\displaystyle x{\\left(1 \\right)} = 0.904524237900272$"
      ],
      "text/plain": [
       "Eq(x(1), 0.904524237900272)"
      ]
     },
     "metadata": {},
     "output_type": "display_data"
    },
    {
     "data": {
      "text/latex": [
       "$\\displaystyle x{\\left(2 \\right)} = 0.461461462433216$"
      ],
      "text/plain": [
       "Eq(x(2), 0.461461462433216)"
      ]
     },
     "metadata": {},
     "output_type": "display_data"
    },
    {
     "data": {
      "text/latex": [
       "$\\displaystyle x{\\left(3 \\right)} = 0.702863557730269$"
      ],
      "text/plain": [
       "Eq(x(3), 0.702863557730269)"
      ]
     },
     "metadata": {},
     "output_type": "display_data"
    },
    {
     "data": {
      "text/latex": [
       "$\\displaystyle x{\\left(4 \\right)} = 0.594460327497823$"
      ],
      "text/plain": [
       "Eq(x(4), 0.594460327497823)"
      ]
     },
     "metadata": {},
     "output_type": "display_data"
    },
    {
     "data": {
      "text/latex": [
       "$\\displaystyle x{\\left(5 \\right)} = 0.611466766396463$"
      ],
      "text/plain": [
       "Eq(x(5), 0.611466766396463)"
      ]
     },
     "metadata": {},
     "output_type": "display_data"
    },
    {
     "data": {
      "text/latex": [
       "$\\displaystyle x{\\left(6 \\right)} = 0.544204025387185$"
      ],
      "text/plain": [
       "Eq(x(6), 0.544204025387185)"
      ]
     },
     "metadata": {},
     "output_type": "display_data"
    },
    {
     "data": {
      "text/latex": [
       "$\\displaystyle x{\\left(7 \\right)} = 0.558334331860971$"
      ],
      "text/plain": [
       "Eq(x(7), 0.558334331860971)"
      ]
     },
     "metadata": {},
     "output_type": "display_data"
    },
    {
     "data": {
      "text/latex": [
       "$\\displaystyle x{\\left(8 \\right)} = 0.683957027508114$"
      ],
      "text/plain": [
       "Eq(x(8), 0.683957027508114)"
      ]
     },
     "metadata": {},
     "output_type": "display_data"
    },
    {
     "data": {
      "text/latex": [
       "$\\displaystyle x{\\left(9 \\right)} = 0.591401084742124$"
      ],
      "text/plain": [
       "Eq(x(9), 0.591401084742124)"
      ]
     },
     "metadata": {},
     "output_type": "display_data"
    },
    {
     "data": {
      "text/latex": [
       "$\\displaystyle x{\\left(10 \\right)} = 0.601125184813444$"
      ],
      "text/plain": [
       "Eq(x(10), 0.601125184813444)"
      ]
     },
     "metadata": {},
     "output_type": "display_data"
    }
   ],
   "source": [
    "#para la evaluación de o hasta 10 usamos un ciclo for\n",
    "for i in range(11):\n",
    "    display(sol2.subs(t,i).evalf())"
   ]
  },
  {
   "cell_type": "code",
   "execution_count": null,
   "id": "0acd3948-8faa-474e-b118-d56dcce7276d",
   "metadata": {},
   "outputs": [],
   "source": []
  }
 ],
 "metadata": {
  "kernelspec": {
   "display_name": "Python 3",
   "language": "python",
   "name": "python3"
  },
  "language_info": {
   "codemirror_mode": {
    "name": "ipython",
    "version": 3
   },
   "file_extension": ".py",
   "mimetype": "text/x-python",
   "name": "python",
   "nbconvert_exporter": "python",
   "pygments_lexer": "ipython3",
   "version": "3.8.8"
  }
 },
 "nbformat": 4,
 "nbformat_minor": 5
}

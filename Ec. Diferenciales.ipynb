{
 "cells": [
  {
   "cell_type": "markdown",
   "id": "c3389a2c-1c7a-4b81-ac78-fab25059bc06",
   "metadata": {},
   "source": [
    "# Ecuaciones Diferenciales Ordinarias"
   ]
  },
  {
   "cell_type": "code",
   "execution_count": 25,
   "id": "1cdf0afd-b419-4d7c-9314-2bda0fc4565f",
   "metadata": {},
   "outputs": [],
   "source": [
    "import numpy as np\n",
    "import matplotlib.pyplot as plt\n",
    "from scipy.integrate import solve_ivp"
   ]
  },
  {
   "cell_type": "markdown",
   "id": "7581d66c-ecac-457f-9a28-c48bc9da19de",
   "metadata": {},
   "source": [
    "### $\\frac{dy}{dt}=-2y+sin(t)$"
   ]
  },
  {
   "cell_type": "code",
   "execution_count": 39,
   "id": "73d6fb7e-a684-4991-83ce-1eb52673a41e",
   "metadata": {},
   "outputs": [],
   "source": [
    "# Función de Ecuación Diferencial\n",
    "def dydt(t, y):\n",
    "    return -2*y + np.sin(t)\n",
    "\n",
    "#Intervalo y condiciones iniciales\n",
    "tspan = np.array([0,1])\n",
    "yo = np.array([0])\n",
    "\n",
    "#solver\n",
    "sol = solve_ivp(dydt,tspan,yo,max_step=0.01)"
   ]
  },
  {
   "cell_type": "code",
   "execution_count": 30,
   "id": "cab6e5b4-237c-4509-8fc7-a3a338336e61",
   "metadata": {},
   "outputs": [
    {
     "data": {
      "text/plain": [
       "  message: 'The solver successfully reached the end of the integration interval.'\n",
       "     nfev: 614\n",
       "     njev: 0\n",
       "      nlu: 0\n",
       "      sol: None\n",
       "   status: 0\n",
       "  success: True\n",
       "        t: array([0.000e+00, 1.000e-04, 1.100e-03, 1.110e-02, 2.110e-02, 3.110e-02,\n",
       "       4.110e-02, 5.110e-02, 6.110e-02, 7.110e-02, 8.110e-02, 9.110e-02,\n",
       "       1.011e-01, 1.111e-01, 1.211e-01, 1.311e-01, 1.411e-01, 1.511e-01,\n",
       "       1.611e-01, 1.711e-01, 1.811e-01, 1.911e-01, 2.011e-01, 2.111e-01,\n",
       "       2.211e-01, 2.311e-01, 2.411e-01, 2.511e-01, 2.611e-01, 2.711e-01,\n",
       "       2.811e-01, 2.911e-01, 3.011e-01, 3.111e-01, 3.211e-01, 3.311e-01,\n",
       "       3.411e-01, 3.511e-01, 3.611e-01, 3.711e-01, 3.811e-01, 3.911e-01,\n",
       "       4.011e-01, 4.111e-01, 4.211e-01, 4.311e-01, 4.411e-01, 4.511e-01,\n",
       "       4.611e-01, 4.711e-01, 4.811e-01, 4.911e-01, 5.011e-01, 5.111e-01,\n",
       "       5.211e-01, 5.311e-01, 5.411e-01, 5.511e-01, 5.611e-01, 5.711e-01,\n",
       "       5.811e-01, 5.911e-01, 6.011e-01, 6.111e-01, 6.211e-01, 6.311e-01,\n",
       "       6.411e-01, 6.511e-01, 6.611e-01, 6.711e-01, 6.811e-01, 6.911e-01,\n",
       "       7.011e-01, 7.111e-01, 7.211e-01, 7.311e-01, 7.411e-01, 7.511e-01,\n",
       "       7.611e-01, 7.711e-01, 7.811e-01, 7.911e-01, 8.011e-01, 8.111e-01,\n",
       "       8.211e-01, 8.311e-01, 8.411e-01, 8.511e-01, 8.611e-01, 8.711e-01,\n",
       "       8.811e-01, 8.911e-01, 9.011e-01, 9.111e-01, 9.211e-01, 9.311e-01,\n",
       "       9.411e-01, 9.511e-01, 9.611e-01, 9.711e-01, 9.811e-01, 9.911e-01,\n",
       "       1.000e+00])\n",
       " t_events: None\n",
       "        y: array([[0.00000000e+00, 4.99966668e-09, 6.04556516e-07, 6.11510122e-05,\n",
       "        2.19498259e-04, 4.73693755e-04, 8.21813724e-04, 1.26196259e-03,\n",
       "        1.79227241e-03, 2.41090235e-03, 3.11603815e-03, 3.90589159e-03,\n",
       "        4.77869999e-03, 5.73272572e-03, 6.76625570e-03, 7.87760094e-03,\n",
       "        9.06509607e-03, 1.03270989e-02, 1.16619898e-02, 1.30681717e-02,\n",
       "        1.45440692e-02, 1.60881284e-02, 1.76988163e-02, 1.93746207e-02,\n",
       "        2.11140496e-02, 2.29156308e-02, 2.47779117e-02, 2.66994588e-02,\n",
       "        2.86788572e-02, 3.07147106e-02, 3.28056408e-02, 3.49502872e-02,\n",
       "        3.71473069e-02, 3.93953737e-02, 4.16931787e-02, 4.40394290e-02,\n",
       "        4.64328483e-02, 4.88721759e-02, 5.13561670e-02, 5.38835920e-02,\n",
       "        5.64532365e-02, 5.90639006e-02, 6.17143995e-02, 6.44035622e-02,\n",
       "        6.71302322e-02, 6.98932664e-02, 7.26915356e-02, 7.55239238e-02,\n",
       "        7.83893284e-02, 8.12866595e-02, 8.42148398e-02, 8.71728049e-02,\n",
       "        9.01595023e-02, 9.31738918e-02, 9.62149452e-02, 9.92816459e-02,\n",
       "        1.02372989e-01, 1.05487980e-01, 1.08625638e-01, 1.11784990e-01,\n",
       "        1.14965076e-01, 1.18164946e-01, 1.21383661e-01, 1.24620292e-01,\n",
       "        1.27873919e-01, 1.31143635e-01, 1.34428541e-01, 1.37727747e-01,\n",
       "        1.41040374e-01, 1.44365553e-01, 1.47702423e-01, 1.51050133e-01,\n",
       "        1.54407842e-01, 1.57774716e-01, 1.61149932e-01, 1.64532674e-01,\n",
       "        1.67922136e-01, 1.71317520e-01, 1.74718037e-01, 1.78122907e-01,\n",
       "        1.81531355e-01, 1.84942619e-01, 1.88355941e-01, 1.91770574e-01,\n",
       "        1.95185776e-01, 1.98600816e-01, 2.02014969e-01, 2.05427518e-01,\n",
       "        2.08837752e-01, 2.12244970e-01, 2.15648478e-01, 2.19047589e-01,\n",
       "        2.22441622e-01, 2.25829905e-01, 2.29211773e-01, 2.32586567e-01,\n",
       "        2.35953636e-01, 2.39312335e-01, 2.42662028e-01, 2.46002084e-01,\n",
       "        2.49331879e-01, 2.52650796e-01, 2.55594989e-01]])\n",
       " y_events: None"
      ]
     },
     "execution_count": 30,
     "metadata": {},
     "output_type": "execute_result"
    }
   ],
   "source": [
    "sol"
   ]
  },
  {
   "cell_type": "code",
   "execution_count": 34,
   "id": "a95410c8-4e23-4539-8d5b-6716ae214d0e",
   "metadata": {},
   "outputs": [
    {
     "data": {
      "text/plain": [
       "array([0.00000000e+00, 4.99966668e-09, 6.04556516e-07, 6.11510122e-05,\n",
       "       2.19498259e-04, 4.73693755e-04, 8.21813724e-04, 1.26196259e-03,\n",
       "       1.79227241e-03, 2.41090235e-03, 3.11603815e-03, 3.90589159e-03,\n",
       "       4.77869999e-03, 5.73272572e-03, 6.76625570e-03, 7.87760094e-03,\n",
       "       9.06509607e-03, 1.03270989e-02, 1.16619898e-02, 1.30681717e-02,\n",
       "       1.45440692e-02, 1.60881284e-02, 1.76988163e-02, 1.93746207e-02,\n",
       "       2.11140496e-02, 2.29156308e-02, 2.47779117e-02, 2.66994588e-02,\n",
       "       2.86788572e-02, 3.07147106e-02, 3.28056408e-02, 3.49502872e-02,\n",
       "       3.71473069e-02, 3.93953737e-02, 4.16931787e-02, 4.40394290e-02,\n",
       "       4.64328483e-02, 4.88721759e-02, 5.13561670e-02, 5.38835920e-02,\n",
       "       5.64532365e-02, 5.90639006e-02, 6.17143995e-02, 6.44035622e-02,\n",
       "       6.71302322e-02, 6.98932664e-02, 7.26915356e-02, 7.55239238e-02,\n",
       "       7.83893284e-02, 8.12866595e-02, 8.42148398e-02, 8.71728049e-02,\n",
       "       9.01595023e-02, 9.31738918e-02, 9.62149452e-02, 9.92816459e-02,\n",
       "       1.02372989e-01, 1.05487980e-01, 1.08625638e-01, 1.11784990e-01,\n",
       "       1.14965076e-01, 1.18164946e-01, 1.21383661e-01, 1.24620292e-01,\n",
       "       1.27873919e-01, 1.31143635e-01, 1.34428541e-01, 1.37727747e-01,\n",
       "       1.41040374e-01, 1.44365553e-01, 1.47702423e-01, 1.51050133e-01,\n",
       "       1.54407842e-01, 1.57774716e-01, 1.61149932e-01, 1.64532674e-01,\n",
       "       1.67922136e-01, 1.71317520e-01, 1.74718037e-01, 1.78122907e-01,\n",
       "       1.81531355e-01, 1.84942619e-01, 1.88355941e-01, 1.91770574e-01,\n",
       "       1.95185776e-01, 1.98600816e-01, 2.02014969e-01, 2.05427518e-01,\n",
       "       2.08837752e-01, 2.12244970e-01, 2.15648478e-01, 2.19047589e-01,\n",
       "       2.22441622e-01, 2.25829905e-01, 2.29211773e-01, 2.32586567e-01,\n",
       "       2.35953636e-01, 2.39312335e-01, 2.42662028e-01, 2.46002084e-01,\n",
       "       2.49331879e-01, 2.52650796e-01, 2.55594989e-01])"
      ]
     },
     "execution_count": 34,
     "metadata": {},
     "output_type": "execute_result"
    }
   ],
   "source": [
    "sol.y[0] #cuando aparece un solo corchete significa que es el vector, y no la matriz"
   ]
  },
  {
   "cell_type": "code",
   "execution_count": 37,
   "id": "fb53f8fd-314e-4b46-8fa3-22add13d9c75",
   "metadata": {},
   "outputs": [
    {
     "data": {
      "text/plain": [
       "<function matplotlib.pyplot.show(close=None, block=None)>"
      ]
     },
     "execution_count": 37,
     "metadata": {},
     "output_type": "execute_result"
    },
    {
     "data": {
      "image/png": "[encoded data removed]",
      "text/plain": [
       "<Figure size 360x288 with 1 Axes>"
      ]
     },
     "metadata": {
      "needs_background": "light"
     },
     "output_type": "display_data"
    }
   ],
   "source": [
    "#grafico\n",
    "plt.figure(figsize=(5,4))\n",
    "plt.plot(sol.t, sol.y[0], '--', color='darkgreen', lw=1, label='Solución numérica')\n",
    "plt.legend(fontsize=9)\n",
    "plt.grid(True)\n",
    "plt.show"
   ]
  },
  {
   "cell_type": "markdown",
   "id": "ca737fba-c2d9-4dfe-9a5a-555fd640064f",
   "metadata": {},
   "source": [
    "## Sistemas de Ecuaciones Diferenciales de Primer Orden"
   ]
  },
  {
   "cell_type": "markdown",
   "id": "808a0275-bcc2-474b-8e57-abe8aaace8c6",
   "metadata": {},
   "source": [
    "Un sistema de ecuaciones diferenciales es un conjunto de varias ecuaciones con varias fucniones incógnitas de condiciones de contorno. \n",
    "Una solución del mimo es un conjunto de funciones diferenciables que satisfacen todas y cada una de las ecuaciones del sistema (wikipedia="
   ]
  },
  {
   "cell_type": "markdown",
   "id": "1f19bfe4-9c88-4915-8e30-567d7017f663",
   "metadata": {},
   "source": [
    "## $\\left\\{ \\frac{dx}{dt} = -\\frac{1}{3} + \\frac{1}{12}y , \\ x(0)=20 \\\\\\\\\n",
    "\\\n",
    "\\\n",
    "\\\n",
    "\\ \\frac{dy}{dt} = -\\frac{1}{3}x + \\frac{1}{3}y , \\ y(0)=12\n",
    " \\right\\}$\n"
   ]
  },
  {
   "cell_type": "markdown",
   "id": "62295b1e-5272-4998-a7b8-2fa322658cf0",
   "metadata": {},
   "source": [
    "El sistema de ecuaciones se cambia a una $\\frac{d\\overrightarrow{S}}{dt}$, donde $\\overrightarrow{S}=(x,y)$,\n",
    "por lo que la forma vectorial de este arreglo sería"
   ]
  },
  {
   "cell_type": "markdown",
   "id": "98295313-8379-4263-8530-ec79c5cb129a",
   "metadata": {},
   "source": [
    "$\\frac{d\\overrightarrow{S}}{dt} = \\begin{bmatrix}\n",
    "x\\\\\n",
    " y\n",
    "\\end{bmatrix}\n",
    "=\n",
    "\\begin{bmatrix}\n",
    "-\\frac{1}{3}x + \\frac{1}{12}y  \\\\\n",
    " \\frac{1}{3}x - \\frac{1}{3}y \n",
    "\\end{bmatrix}$"
   ]
  },
  {
   "cell_type": "code",
   "execution_count": 53,
   "id": "80c1cf15-7e80-4462-8b49-02e6813f1e99",
   "metadata": {},
   "outputs": [
    {
     "data": {
      "text/plain": [
       "  message: 'The solver successfully reached the end of the integration interval.'\n",
       "     nfev: 18002\n",
       "     njev: 0\n",
       "      nlu: 0\n",
       "      sol: None\n",
       "   status: 0\n",
       "  success: True\n",
       "        t: array([0.000e+00, 1.000e-02, 2.000e-02, ..., 2.998e+01, 2.999e+01,\n",
       "       3.000e+01])\n",
       " t_events: None\n",
       "        y: array([[20.        , 19.94343873, 19.88708764, ...,  0.08788794,\n",
       "         0.08774157,  0.08759545],\n",
       "       [12.        , 12.02652805, 12.05277994, ...,  0.17576723,\n",
       "         0.17547454,  0.17518234]])\n",
       " y_events: None"
      ]
     },
     "execution_count": 53,
     "metadata": {},
     "output_type": "execute_result"
    }
   ],
   "source": [
    "#Función\n",
    "def dSdt(t,S):\n",
    "    x,y = S\n",
    "    return [-(1/3)*x + (1/12)*y,\n",
    "           (1/3)*x - (1/3*y)]\n",
    "\n",
    "#Condiciones iniciales\n",
    "xo = 20\n",
    "yo = 12\n",
    "So = (xo,yo)\n",
    "\n",
    "#Intervalo de solución\n",
    "tspan = np.array([0, 30])\n",
    "\n",
    "#Solver\n",
    "sol = solve_ivp(dSdt, tspan, So, max_step=0.01)\n",
    "\n",
    "sol"
   ]
  },
  {
   "cell_type": "code",
   "execution_count": 54,
   "id": "e5aa9109-20c1-4d7c-b930-abacabffa2e8",
   "metadata": {},
   "outputs": [
    {
     "data": {
      "text/plain": [
       "<function matplotlib.pyplot.show(close=None, block=None)>"
      ]
     },
     "execution_count": 54,
     "metadata": {},
     "output_type": "execute_result"
    },
    {
     "data": {
      "image/png": "[encoded data removed]",
      "text/plain": [
       "<Figure size 360x288 with 1 Axes>"
      ]
     },
     "metadata": {
      "needs_background": "light"
     },
     "output_type": "display_data"
    }
   ],
   "source": [
    "#grafico\n",
    "plt.figure(figsize=(5,4))\n",
    "plt.plot(sol.t, sol.y[0], '--', color='darkgreen', lw=1, label='x(t)')\n",
    "plt.plot(sol.t, sol.y[1], '--', color='indigo', lw=1, label='y(t)')\n",
    "plt.legend(fontsize=9)\n",
    "plt.grid(True)\n",
    "plt.show"
   ]
  },
  {
   "cell_type": "markdown",
   "id": "cf4dadb2-e06d-4d58-9ea3-9e4eb7111a1a",
   "metadata": {},
   "source": [
    "## Ecuaciones de Orden Superior"
   ]
  },
  {
   "cell_type": "markdown",
   "id": "a0c2c610-0cee-41f8-a45f-cf8db1846410",
   "metadata": {},
   "source": [
    "### $\\frac{\\mathrm{d}^2 x}{\\mathrm{d}t^2}+\\frac{1}{2}\\frac{dx}{dt}+x=0\\\\\n",
    "\\frac{\\mathrm{d}^2 x}{\\mathrm{d}t^2}=-\\frac{1}{2}\\frac{dx}{dt}-x$"
   ]
  },
  {
   "cell_type": "markdown",
   "id": "1065ed8b-35fe-4c4f-a1e7-3239318b4e7a",
   "metadata": {},
   "source": [
    "Una Ec. Diferencial de orden n se puede descomponer en un sistema de $n$ Ec. diferenciales de primer orden, en este caso, dos. \n",
    "Comenzamos con un cambio de variables, definiendolas de la siguiente forma"
   ]
  },
  {
   "cell_type": "markdown",
   "id": "e0f1d612-6d90-46ed-a78b-ed72362ba51f",
   "metadata": {},
   "source": [
    "$\n",
    "\\ y_1=x\n",
    "\\\\\\\\\n",
    "\\ y_2= \\dot{x}$"
   ]
  },
  {
   "cell_type": "markdown",
   "id": "ea0fa14e-bfb6-4acc-93f4-b2e59edf16c7",
   "metadata": {},
   "source": [
    "Al diferenciar las variables con respecto a $t$ se puede notar que "
   ]
  },
  {
   "cell_type": "markdown",
   "id": "d2fc025e-8428-4b9b-b4a4-815c37d0b84f",
   "metadata": {},
   "source": [
    "$\\dot{y}_1=\\dot{x}=y_2 \\\\\\\\\n",
    "\\\\\\\n",
    "\\dot{y}_2=\\ddot{x}=-by_2-ky_1$"
   ]
  },
  {
   "cell_type": "code",
   "execution_count": 74,
   "id": "3bd7cd99-47ad-4541-9445-06a4f621cbcb",
   "metadata": {},
   "outputs": [
    {
     "data": {
      "text/plain": [
       "<function matplotlib.pyplot.show(close=None, block=None)>"
      ]
     },
     "execution_count": 74,
     "metadata": {},
     "output_type": "execute_result"
    },
    {
     "data": {
      "image/png": "[encoded data removed]",
      "text/plain": [
       "<Figure size 360x288 with 1 Axes>"
      ]
     },
     "metadata": {
      "needs_background": "light"
     },
     "output_type": "display_data"
    }
   ],
   "source": [
    "#Función\n",
    "def dSdt(t,S):\n",
    "    y1,y2 = S\n",
    "    return [y2, \n",
    "            -(1/2)*y2 - y1]\n",
    "\n",
    "#Condiciones iniciales\n",
    "y10 = 1\n",
    "y20 = 0\n",
    "So = (y10,y20)\n",
    "\n",
    "#Tiempo de solución\n",
    "tspan = np.array([0,20])\n",
    "\n",
    "#Solve\n",
    "sol = solve_ivp(dSdt, tspan, So, max_step=0.01)\n",
    "\n",
    "#Gráfica\n",
    "plt.figure(figsize=(5,4))\n",
    "plt.plot(sol.t, sol.y[0], '--', color='magenta', lw=1, label='x(t)')\n",
    "plt.plot(sol.t, sol.y[1], '--', color='indigo', lw=1, label='y(t)')\n",
    "plt.legend(fontsize=9)\n",
    "plt.grid(True)\n",
    "plt.show\n"
   ]
  },
  {
   "cell_type": "code",
   "execution_count": null,
   "id": "f728b13c-5445-499c-9545-6e22f8e53a7c",
   "metadata": {},
   "outputs": [],
   "source": []
  }
 ],
 "metadata": {
  "kernelspec": {
   "display_name": "Python 3",
   "language": "python",
   "name": "python3"
  },
  "language_info": {
   "codemirror_mode": {
    "name": "ipython",
    "version": 3
   },
   "file_extension": ".py",
   "mimetype": "text/x-python",
   "name": "python",
   "nbconvert_exporter": "python",
   "pygments_lexer": "ipython3",
   "version": "3.8.8"
  }
 },
 "nbformat": 4,
 "nbformat_minor": 5
}
